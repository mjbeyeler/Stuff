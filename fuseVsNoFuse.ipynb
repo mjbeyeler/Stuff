#%%
import pandas as pd

fused = pd.read_csv("../output/PascalX/pathway_combined_slurmAll.txt", delimiter=' ', header=None, names=['ptw', 'n_genes', 'n_notNA_genes', 'pval'])
notFused = pd.read_csv("../output/PascalX/pathway_combined_slurmAll_noFuse.txt", delimiter=' ', header=None, names=['ptw', 'n_genes', 'n_notNA_genes', 'pval'])

fused = fused.set_index('ptw')
notFused = notFused.set_index('ptw')
# %%
from matplotlib import pyplot as plt
import numpy as np

plt.scatter(-np.log10(fused['pval']), -np.log10(notFused['pval'].loc[fused.index]))

#%%
print('Hello Dasha')


#%%
notFused.loc['chr15q24']